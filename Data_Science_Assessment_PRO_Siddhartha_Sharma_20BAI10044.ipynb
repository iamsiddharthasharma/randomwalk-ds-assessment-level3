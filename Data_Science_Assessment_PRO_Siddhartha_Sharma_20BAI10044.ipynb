{
 "cells": [
  {
   "cell_type": "markdown",
   "id": "54335801",
   "metadata": {},
   "source": [
    "# PRO Data Science Live Coding Round Assessment - Siddhartha Sharma (20BAI10044)"
   ]
  },
  {
   "cell_type": "code",
   "execution_count": 34,
   "id": "6c2a014d",
   "metadata": {},
   "outputs": [],
   "source": [
    "#Importing all the requirements\n",
    "import pandas as pd\n",
    "import matplotlib.pyplot as plt"
   ]
  },
  {
   "cell_type": "code",
   "execution_count": 35,
   "id": "fe1383b1",
   "metadata": {},
   "outputs": [],
   "source": [
    "#Reading the csv datafiles\n",
    "path = \"books.csv\";\n",
    "df = pd.read_csv(path);\n",
    "ratings_df = pd.read_csv(\"ratings.csv\");\n",
    "tags_df = pd.read_csv(\"book_tags.csv\");"
   ]
  },
  {
   "cell_type": "markdown",
   "id": "fbe238da",
   "metadata": {},
   "source": [
    "## Question 1: How many books do not have an original title [books.csv]?\n",
    "\n",
    "This code checks for missing values in the original_title column using attribute *isna* which detects missing values and returns a boolean same-sized object indicating if the values are NA and sum which returns the sum of the values"
   ]
  },
  {
   "cell_type": "code",
   "execution_count": 36,
   "id": "23133320",
   "metadata": {},
   "outputs": [
    {
     "name": "stdout",
     "output_type": "stream",
     "text": [
      "Number of books without an original titles are 36\n"
     ]
    }
   ],
   "source": [
    "missing_original_title_count = df['original_title'].isna().sum()\n",
    "\n",
    "print(f\"Number of books without an original titles are {missing_original_title_count}\")"
   ]
  },
  {
   "cell_type": "markdown",
   "id": "3293bb05",
   "metadata": {},
   "source": [
    "## Question 2 : How many unique books are present in the dataset ? Evaluate based on the 'book_id' after removing records containing null values for original_title column in [books.csv] and corresponding records in [book_tags.csv] and [ratings.csv]\n",
    "\n",
    "In order to find the unique books we first need to remove the books not having an original title and then count the books having unique book_id.\n",
    "\n",
    "The first step is made possible using *dropna* attribute which return a new Series with missing values removed and we have taken the parameter subset which tells which columns to include.\n",
    "\n",
    "The second step is done using the parameter *nunique* which counts the number of distinct elements in specified axis."
   ]
  },
  {
   "cell_type": "code",
   "execution_count": 37,
   "id": "81b22d85",
   "metadata": {},
   "outputs": [
    {
     "name": "stdout",
     "output_type": "stream",
     "text": [
      "Number of unique books after removing null values in 'original_title': 363\n"
     ]
    }
   ],
   "source": [
    "df_filtered = df.dropna(subset=['original_title'])\n",
    "unique_books_count = df_filtered['book_id'].nunique()\n",
    "\n",
    "print(f\"Number of unique books after removing null values in 'original_title': {unique_books_count}\")"
   ]
  },
  {
   "cell_type": "markdown",
   "id": "7fc5d123",
   "metadata": {},
   "source": [
    "## Question 3 : How many unique users are present in the dataset [ratings.csv] ?\n",
    "\n",
    "We use the *nunique()* function to count the number of unique values in the *user_id* column, representing the unique users in the dataset."
   ]
  },
  {
   "cell_type": "code",
   "execution_count": 38,
   "id": "321cdd1b",
   "metadata": {},
   "outputs": [
    {
     "name": "stdout",
     "output_type": "stream",
     "text": [
      "Number of unique users: 40836\n"
     ]
    }
   ],
   "source": [
    "unique_users = ratings_df['user_id'].nunique()\n",
    "\n",
    "print(f\"Number of unique users: {unique_users}\")"
   ]
  },
  {
   "cell_type": "markdown",
   "id": "9f5e41b7",
   "metadata": {},
   "source": [
    "## Question 4 : How many unique tags are there in the dataset [book_tags.csv] ?\n",
    "\n",
    "We use the *nunique()* function to count the number of unique values in the *tag_id* column, representing the unique users in the dataset."
   ]
  },
  {
   "cell_type": "code",
   "execution_count": 39,
   "id": "688ab901",
   "metadata": {},
   "outputs": [
    {
     "name": "stdout",
     "output_type": "stream",
     "text": [
      "Number of unique tags: 3651\n"
     ]
    }
   ],
   "source": [
    "unique_tags = tags_df['tag_id'].nunique()\n",
    "\n",
    "print(f\"Number of unique tags: {unique_tags}\")"
   ]
  },
  {
   "cell_type": "markdown",
   "id": "a37ce08b",
   "metadata": {},
   "source": [
    "## Question 5 : Which tag_id is the most frequently used ie. mapped with the highest number of books [book_tags.csv] ? (In case of more than one tag, mention the tag id with the least numerical value)’.\n",
    "\n",
    "In order to achieve this we first used value_counts which returns a series containing counts of unique values followed by *idxmax*which returns index of first occurrence of maximum over requested axis.\n",
    "\n",
    "If there are a number of tags that have the maximum value we return the lowest tag_id using idxmin which returns index of first occurrence of minimum over requested axis."
   ]
  },
  {
   "cell_type": "code",
   "execution_count": 45,
   "id": "aa22677b",
   "metadata": {},
   "outputs": [
    {
     "name": "stdout",
     "output_type": "stream",
     "text": [
      "The most frequently used tag_id: 4600\n"
     ]
    }
   ],
   "source": [
    "most_frequent_tag = tags_df['tag_id'].value_counts().idxmax()\n",
    "if isinstance(most_frequent_tag, pd.Series):\n",
    "    most_frequent_tag = most_frequent_tag.idxmin()\n",
    "\n",
    "print(f\"The most frequently used tag_id: {most_frequent_tag}\")"
   ]
  },
  {
   "cell_type": "markdown",
   "id": "ef50b29c",
   "metadata": {},
   "source": [
    "## Question 6: Which book (title) has the most number of counts of tags given by the user [book_tags.csv,books.csv] .\n",
    "\n",
    "We have used **merge** function to merge the two dataframes on *goodreads_book_id. Then in order to get the most tagged book we used group by on **title** column followed by *sum(which returns the sum of the values over the requested axis) and **idxmax**(returns index of first occurrence of maximum over requested axis)"
   ]
  },
  {
   "cell_type": "code",
   "execution_count": 46,
   "id": "6af776be",
   "metadata": {},
   "outputs": [
    {
     "name": "stdout",
     "output_type": "stream",
     "text": [
      "The book with the most number of counts of tags given by the user: Bossypants\n"
     ]
    }
   ],
   "source": [
    "merged_df = pd.merge(tags_df, df, on='goodreads_book_id')\n",
    "\n",
    "most_tagged_book = merged_df.groupby('title')['count'].sum().idxmax()\n",
    "\n",
    "print(f\"The book with the most number of counts of tags given by the user: {most_tagged_book}\")"
   ]
  },
  {
   "cell_type": "markdown",
   "id": "a0e392a3",
   "metadata": {},
   "source": [
    "## Question 7: Plot a bar chart with top 20 unique tags in descending order of ‘user records’ (the number of users tagged the given tag_id with the goodreads_book_id) [book_tags.csv]\n",
    "\n",
    "\n"
   ]
  },
  {
   "cell_type": "code",
   "execution_count": 47,
   "id": "608699dc",
   "metadata": {},
   "outputs": [
    {
     "data": {
      "image/png": "[encoded data removed]",
      "text/plain": [
       "<Figure size 720x432 with 1 Axes>"
      ]
     },
     "metadata": {
      "needs_background": "light"
     },
     "output_type": "display_data"
    }
   ],
   "source": [
    "top_tags = tags_df.groupby('tag_id')['count'].sum().sort_values(ascending=False).head(20)\n",
    "plt.figure(figsize=(10, 6))\n",
    "top_tags.plot(kind='bar', color='skyblue')\n",
    "plt.title('Top 20 Unique Tags by User Records')\n",
    "plt.xlabel('Tag ID')\n",
    "plt.ylabel('User Records')\n",
    "plt.show()"
   ]
  },
  {
   "cell_type": "code",
   "execution_count": null,
   "id": "29c2c770",
   "metadata": {},
   "outputs": [],
   "source": []
  }
 ],
 "metadata": {
  "kernelspec": {
   "display_name": "Python 3 (ipykernel)",
   "language": "python",
   "name": "python3"
  },
  "language_info": {
   "codemirror_mode": {
    "name": "ipython",
    "version": 3
   },
   "file_extension": ".py",
   "mimetype": "text/x-python",
   "name": "python",
   "nbconvert_exporter": "python",
   "pygments_lexer": "ipython3",
   "version": "3.9.7"
  }
 },
 "nbformat": 4,
 "nbformat_minor": 5
}
